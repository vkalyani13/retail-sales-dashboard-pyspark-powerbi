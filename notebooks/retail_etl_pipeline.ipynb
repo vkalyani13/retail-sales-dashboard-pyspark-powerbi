{
 "cells": [
  {
   "cell_type": "code",
   "execution_count": 0,
   "metadata": {
    "application/vnd.databricks.v1+cell": {
     "cellMetadata": {
      "byteLimit": 2048000,
      "rowLimit": 10000
     },
     "inputWidgets": {},
     "nuid": "176035ea-6138-4bac-b032-82b5f266d456",
     "showTitle": false,
     "tableResultSettingsMap": {},
     "title": ""
    }
   },
   "outputs": [
    {
     "output_type": "stream",
     "name": "stdout",
     "output_type": "stream",
     "text": [
      "+------+--------------+----------+----------+--------------+-----------+---------------+---------+-------------+---------------+----------+-----------+------+---------------+---------------+------------+--------------------+--------+--------+--------+--------+\n|Row ID|      Order ID|Order Date| Ship Date|     Ship Mode|Customer ID|  Customer Name|  Segment|      Country|           City|     State|Postal Code|Region|     Product ID|       Category|Sub-Category|        Product Name|   Sales|Quantity|Discount|  Profit|\n+------+--------------+----------+----------+--------------+-----------+---------------+---------+-------------+---------------+----------+-----------+------+---------------+---------------+------------+--------------------+--------+--------+--------+--------+\n|     1|CA-2016-152156|2016-11-08|2016-11-11|  Second Class|   CG-12520|    Claire Gute| Consumer|United States|      Henderson|  Kentucky|      42420| South|FUR-BO-10001798|      Furniture|   Bookcases|Bush Somerset Col...|  261.96|       2|       0| 41.9136|\n|     2|CA-2016-152156|2016-11-08|2016-11-11|  Second Class|   CG-12520|    Claire Gute| Consumer|United States|      Henderson|  Kentucky|      42420| South|FUR-CH-10000454|      Furniture|      Chairs|Hon Deluxe Fabric...|  731.94|       3|       0| 219.582|\n|     3|CA-2016-138688|2016-06-12|2016-06-16|  Second Class|   DV-13045|Darrin Van Huff|Corporate|United States|    Los Angeles|California|      90036|  West|OFF-LA-10000240|Office Supplies|      Labels|Self-Adhesive Add...|   14.62|       2|       0|  6.8714|\n|     4|US-2015-108966|2015-10-11|2015-10-18|Standard Class|   SO-20335| Sean O'Donnell| Consumer|United States|Fort Lauderdale|   Florida|      33311| South|FUR-TA-10000577|      Furniture|      Tables|Bretford CR4500 S...|957.5775|       5|    0.45|-383.031|\n|     5|US-2015-108966|2015-10-11|2015-10-18|Standard Class|   SO-20335| Sean O'Donnell| Consumer|United States|Fort Lauderdale|   Florida|      33311| South|OFF-ST-10000760|Office Supplies|     Storage|Eldon Fold 'N Rol...|  22.368|       2|     0.2|  2.5164|\n+------+--------------+----------+----------+--------------+-----------+---------------+---------+-------------+---------------+----------+-----------+------+---------------+---------------+------------+--------------------+--------+--------+--------+--------+\nonly showing top 5 rows\n\nroot\n |-- Row ID: integer (nullable = true)\n |-- Order ID: string (nullable = true)\n |-- Order Date: date (nullable = true)\n |-- Ship Date: date (nullable = true)\n |-- Ship Mode: string (nullable = true)\n |-- Customer ID: string (nullable = true)\n |-- Customer Name: string (nullable = true)\n |-- Segment: string (nullable = true)\n |-- Country: string (nullable = true)\n |-- City: string (nullable = true)\n |-- State: string (nullable = true)\n |-- Postal Code: integer (nullable = true)\n |-- Region: string (nullable = true)\n |-- Product ID: string (nullable = true)\n |-- Category: string (nullable = true)\n |-- Sub-Category: string (nullable = true)\n |-- Product Name: string (nullable = true)\n |-- Sales: string (nullable = true)\n |-- Quantity: string (nullable = true)\n |-- Discount: string (nullable = true)\n |-- Profit: double (nullable = true)\n\n"
     ]
    }
   ],
   "source": [
    "from pyspark.sql import SparkSession\n",
    "spark = SparkSession.builder.appName(\"RetailETL\").getOrCreate()\n",
    "file_path = \"/FileStore/tables/Sample___Superstore.csv\"\n",
    "df = spark.read.csv(file_path, header=True, inferSchema=True)\n",
    "df.show(5)\n",
    "df.printSchema()"
   ]
  },
  {
   "cell_type": "code",
   "execution_count": 0,
   "metadata": {
    "application/vnd.databricks.v1+cell": {
     "cellMetadata": {
      "byteLimit": 2048000,
      "rowLimit": 10000
     },
     "inputWidgets": {},
     "nuid": "6fc88351-8f8e-40b2-b730-2e8495be6a5c",
     "showTitle": false,
     "tableResultSettingsMap": {},
     "title": ""
    }
   },
   "outputs": [
    {
     "output_type": "stream",
     "name": "stdout",
     "output_type": "stream",
     "text": [
      "root\n |-- Row ID: integer (nullable = true)\n |-- Order ID: string (nullable = true)\n |-- Order Date: date (nullable = true)\n |-- Ship Date: date (nullable = true)\n |-- Ship Mode: string (nullable = true)\n |-- Customer ID: string (nullable = true)\n |-- Customer Name: string (nullable = true)\n |-- Segment: string (nullable = true)\n |-- Country: string (nullable = true)\n |-- City: string (nullable = true)\n |-- State: string (nullable = true)\n |-- Postal Code: integer (nullable = true)\n |-- Region: string (nullable = true)\n |-- Product ID: string (nullable = true)\n |-- Category: string (nullable = true)\n |-- Sub-Category: string (nullable = true)\n |-- Product Name: string (nullable = true)\n |-- Sales: double (nullable = true)\n |-- Quantity: integer (nullable = true)\n |-- Discount: double (nullable = true)\n |-- Profit: double (nullable = true)\n\n"
     ]
    }
   ],
   "source": [
    "from pyspark.sql.functions import col\n",
    "#Changing string to numeric columns\n",
    "df = df.withColumn(\"Sales\", col(\"Sales\").cast(\"double\")) \\\n",
    "       .withColumn(\"Quantity\", col(\"Quantity\").cast(\"int\")) \\\n",
    "       .withColumn(\"Discount\", col(\"Discount\").cast(\"double\"))\n",
    "\n",
    "df.printSchema()\n"
   ]
  },
  {
   "cell_type": "code",
   "execution_count": 0,
   "metadata": {
    "application/vnd.databricks.v1+cell": {
     "cellMetadata": {
      "byteLimit": 2048000,
      "rowLimit": 10000
     },
     "inputWidgets": {},
     "nuid": "a1e3ceeb-5dc6-4e83-830e-86e41394ea2b",
     "showTitle": false,
     "tableResultSettingsMap": {},
     "title": ""
    }
   },
   "outputs": [
    {
     "output_type": "stream",
     "name": "stdout",
     "output_type": "stream",
     "text": [
      "Total records after cleaning: 9994\n"
     ]
    }
   ],
   "source": [
    "df = df.dropDuplicates()\n",
    "print(f\"Total records after cleaning: {df.count()}\")\n"
   ]
  },
  {
   "cell_type": "code",
   "execution_count": 0,
   "metadata": {
    "application/vnd.databricks.v1+cell": {
     "cellMetadata": {
      "byteLimit": 2048000,
      "rowLimit": 10000
     },
     "inputWidgets": {},
     "nuid": "10520891-0ff5-4f99-8864-036d729ab5ce",
     "showTitle": false,
     "tableResultSettingsMap": {},
     "title": ""
    }
   },
   "outputs": [
    {
     "output_type": "stream",
     "name": "stdout",
     "output_type": "stream",
     "text": [
      "+------+--------+----------+---------+---------+-----------+-------------+-------+-------+----+-----+-----------+------+----------+--------+------------+------------+-----+--------+--------+------+\n|Row ID|Order ID|Order Date|Ship Date|Ship Mode|Customer ID|Customer Name|Segment|Country|City|State|Postal Code|Region|Product ID|Category|Sub-Category|Product Name|Sales|Quantity|Discount|Profit|\n+------+--------+----------+---------+---------+-----------+-------------+-------+-------+----+-----+-----------+------+----------+--------+------------+------------+-----+--------+--------+------+\n|     0|       0|         0|        0|        0|          0|            0|      0|      0|   0|    0|          0|     0|         0|       0|           0|           0|  300|      20|      11|     0|\n+------+--------+----------+---------+---------+-----------+-------------+-------+-------+----+-----+-----------+------+----------+--------+------------+------------+-----+--------+--------+------+\n\n"
     ]
    }
   ],
   "source": [
    "from pyspark.sql.functions import col, sum\n",
    "\n",
    "df.select([sum(col(c).isNull().cast(\"int\")).alias(c) for c in df.columns]).show()\n"
   ]
  },
  {
   "cell_type": "code",
   "execution_count": 0,
   "metadata": {
    "application/vnd.databricks.v1+cell": {
     "cellMetadata": {
      "byteLimit": 2048000,
      "rowLimit": 10000
     },
     "inputWidgets": {},
     "nuid": "bb9e3886-9e31-4443-b56f-5c95b8b00142",
     "showTitle": false,
     "tableResultSettingsMap": {},
     "title": ""
    }
   },
   "outputs": [],
   "source": [
    "df = df.fillna({\n",
    "    \"Sales\": 0.0,           # If sales is null, assuming 0\n",
    "    \"Quantity\": 1,          # Assuming 1 item minimum if missing\n",
    "    \"Discount\": 0.0         # If no discount, assuming 0%\n",
    "})\n"
   ]
  },
  {
   "cell_type": "code",
   "execution_count": 0,
   "metadata": {
    "application/vnd.databricks.v1+cell": {
     "cellMetadata": {
      "byteLimit": 2048000,
      "rowLimit": 10000
     },
     "inputWidgets": {},
     "nuid": "0c7ef53e-113a-43d5-938e-ba7c07748371",
     "showTitle": false,
     "tableResultSettingsMap": {},
     "title": ""
    }
   },
   "outputs": [
    {
     "output_type": "stream",
     "name": "stdout",
     "output_type": "stream",
     "text": [
      "+------+--------+----------+---------+---------+-----------+-------------+-------+-------+----+-----+-----------+------+----------+--------+------------+------------+-----+--------+--------+------+\n|Row ID|Order ID|Order Date|Ship Date|Ship Mode|Customer ID|Customer Name|Segment|Country|City|State|Postal Code|Region|Product ID|Category|Sub-Category|Product Name|Sales|Quantity|Discount|Profit|\n+------+--------+----------+---------+---------+-----------+-------------+-------+-------+----+-----+-----------+------+----------+--------+------------+------------+-----+--------+--------+------+\n|     0|       0|         0|        0|        0|          0|            0|      0|      0|   0|    0|          0|     0|         0|       0|           0|           0|    0|       0|       0|     0|\n+------+--------+----------+---------+---------+-----------+-------------+-------+-------+----+-----+-----------+------+----------+--------+------------+------------+-----+--------+--------+------+\n\n"
     ]
    }
   ],
   "source": [
    "df.select([sum(col(c).isNull().cast(\"int\")).alias(c) for c in df.columns]).show()\n"
   ]
  },
  {
   "cell_type": "code",
   "execution_count": 0,
   "metadata": {
    "application/vnd.databricks.v1+cell": {
     "cellMetadata": {
      "byteLimit": 2048000,
      "rowLimit": 10000
     },
     "inputWidgets": {},
     "nuid": "d1c7fb2f-134f-4f9d-ab35-3158656ac022",
     "showTitle": false,
     "tableResultSettingsMap": {},
     "title": ""
    }
   },
   "outputs": [
    {
     "output_type": "stream",
     "name": "stdout",
     "output_type": "stream",
     "text": [
      "+-------+------------------+\n| Region|       Total_Sales|\n+-------+------------------+\n|   West| 713471.3445000012|\n|   East| 672194.0540000005|\n|Central|497800.87279999955|\n|  South|388983.58499999985|\n+-------+------------------+\n\n"
     ]
    }
   ],
   "source": [
    "from pyspark.sql.functions import sum\n",
    "\n",
    "sales_by_region = df.groupBy(\"Region\") \\\n",
    "    .agg(sum(\"Sales\").alias(\"Total_Sales\")) \\\n",
    "    .orderBy(\"Total_Sales\", ascending=False)\n",
    "\n",
    "sales_by_region.show()\n"
   ]
  },
  {
   "cell_type": "code",
   "execution_count": 0,
   "metadata": {
    "application/vnd.databricks.v1+cell": {
     "cellMetadata": {
      "byteLimit": 2048000,
      "rowLimit": 10000
     },
     "inputWidgets": {},
     "nuid": "260b961d-2cc4-4cf9-bb2d-1b54921eb3a8",
     "showTitle": false,
     "tableResultSettingsMap": {},
     "title": ""
    }
   },
   "outputs": [
    {
     "output_type": "stream",
     "name": "stdout",
     "output_type": "stream",
     "text": [
      "+---------------+-----------+------------+\n|       Category|Total_Sales|Total_Profit|\n+---------------+-----------+------------+\n|     Technology|  835900.07|    145388.3|\n|      Furniture|  733046.86|    19686.43|\n|Office Supplies|  703502.93|   120632.88|\n+---------------+-----------+------------+\n\n"
     ]
    }
   ],
   "source": [
    "from pyspark.sql.functions import round\n",
    "\n",
    "category_summary = df.groupBy(\"Category\") \\\n",
    "    .agg(\n",
    "        round(sum(\"Sales\"), 2).alias(\"Total_Sales\"),\n",
    "        round(sum(\"Profit\"), 2).alias(\"Total_Profit\")\n",
    "    ).orderBy(\"Total_Sales\", ascending=False)\n",
    "\n",
    "category_summary.show()\n"
   ]
  },
  {
   "cell_type": "code",
   "execution_count": 0,
   "metadata": {
    "application/vnd.databricks.v1+cell": {
     "cellMetadata": {
      "byteLimit": 2048000,
      "rowLimit": 10000
     },
     "inputWidgets": {},
     "nuid": "e37353c1-9de4-4838-b351-5d9256fba20e",
     "showTitle": false,
     "tableResultSettingsMap": {},
     "title": ""
    }
   },
   "outputs": [
    {
     "output_type": "stream",
     "name": "stdout",
     "output_type": "stream",
     "text": [
      "+-------+-------------+\n|  Month|Monthly_Sales|\n+-------+-------------+\n|2014-01|     14161.35|\n|2014-02|      4119.82|\n|2014-03|      55526.2|\n|2014-04|     28139.56|\n|2014-05|     23634.67|\n|2014-06|      34509.0|\n|2014-07|     33500.87|\n|2014-08|     27603.51|\n|2014-09|     81496.81|\n|2014-10|     31394.94|\n+-------+-------------+\nonly showing top 10 rows\n\n"
     ]
    }
   ],
   "source": [
    "from pyspark.sql.functions import date_format\n",
    "\n",
    "monthly_sales = df.withColumn(\"Month\", date_format(\"Order Date\", \"yyyy-MM\")) \\\n",
    "    .groupBy(\"Month\") \\\n",
    "    .agg(round(sum(\"Sales\"), 2).alias(\"Monthly_Sales\")) \\\n",
    "    .orderBy(\"Month\")\n",
    "\n",
    "monthly_sales.show(10)\n"
   ]
  },
  {
   "cell_type": "code",
   "execution_count": 0,
   "metadata": {
    "application/vnd.databricks.v1+cell": {
     "cellMetadata": {
      "byteLimit": 2048000,
      "rowLimit": 10000
     },
     "inputWidgets": {},
     "nuid": "6a8c0857-86c6-4a4f-895e-4156b5a20575",
     "showTitle": false,
     "tableResultSettingsMap": {},
     "title": ""
    }
   },
   "outputs": [],
   "source": [
    "sales_by_region.write.mode(\"overwrite\").parquet(\"/FileStore/processed/sales_by_region\")\n",
    "category_summary.write.mode(\"overwrite\").parquet(\"/FileStore/processed/category_summary\")\n",
    "monthly_sales.write.mode(\"overwrite\").parquet(\"/FileStore/processed/monthly_sales\")\n"
   ]
  },
  {
   "cell_type": "code",
   "execution_count": 0,
   "metadata": {
    "application/vnd.databricks.v1+cell": {
     "cellMetadata": {
      "byteLimit": 2048000,
      "rowLimit": 10000
     },
     "inputWidgets": {},
     "nuid": "bf6dca85-2109-44ef-b9a3-7fe3264c608e",
     "showTitle": false,
     "tableResultSettingsMap": {},
     "title": ""
    }
   },
   "outputs": [],
   "source": [
    "\n",
    "sales_by_region.write.mode(\"overwrite\").option(\"header\", \"true\").csv(\"/FileStore/export_csv/sales_by_region\")\n",
    "category_summary.write.mode(\"overwrite\").option(\"header\", \"true\").csv(\"/FileStore/export_csv/category_summary\")\n",
    "monthly_sales.write.mode(\"overwrite\").option(\"header\", \"true\").csv(\"/FileStore/export_csv/monthly_sales\")\n"
   ]
  },
  {
   "cell_type": "code",
   "execution_count": 0,
   "metadata": {
    "application/vnd.databricks.v1+cell": {
     "cellMetadata": {
      "byteLimit": 2048000,
      "rowLimit": 10000
     },
     "collapsed": true,
     "inputWidgets": {},
     "nuid": "251d95f1-ad60-41cc-8abf-c5a476acdb29",
     "showTitle": false,
     "tableResultSettingsMap": {},
     "title": ""
    }
   },
   "outputs": [
    {
     "output_type": "display_data",
     "data": {
      "text/html": [
       "<style scoped>\n",
       "  .table-result-container {\n",
       "    max-height: 300px;\n",
       "    overflow: auto;\n",
       "  }\n",
       "  table, th, td {\n",
       "    border: 1px solid black;\n",
       "    border-collapse: collapse;\n",
       "  }\n",
       "  th, td {\n",
       "    padding: 5px;\n",
       "  }\n",
       "  th {\n",
       "    text-align: left;\n",
       "  }\n",
       "</style><div class='table-result-container'><table class='table-result'><thead style='background-color: white'><tr><th>path</th><th>name</th><th>size</th><th>modificationTime</th></tr></thead><tbody><tr><td>dbfs:/FileStore/export_csv/sales_by_region/_SUCCESS</td><td>_SUCCESS</td><td>0</td><td>1743792690000</td></tr><tr><td>dbfs:/FileStore/export_csv/sales_by_region/_committed_1997021815839773224</td><td>_committed_1997021815839773224</td><td>112</td><td>1743792690000</td></tr><tr><td>dbfs:/FileStore/export_csv/sales_by_region/_started_1997021815839773224</td><td>_started_1997021815839773224</td><td>0</td><td>1743792690000</td></tr><tr><td>dbfs:/FileStore/export_csv/sales_by_region/part-00000-tid-1997021815839773224-215315b7-c6b3-43a5-ade2-15ecc1660058-53-1-c000.csv</td><td>part-00000-tid-1997021815839773224-215315b7-c6b3-43a5-ade2-15ecc1660058-53-1-c000.csv</td><td>117</td><td>1743792690000</td></tr></tbody></table></div>"
      ]
     },
     "metadata": {
      "application/vnd.databricks.v1+output": {
       "addedWidgets": {},
       "aggData": [],
       "aggError": "",
       "aggOverflow": false,
       "aggSchema": [],
       "aggSeriesLimitReached": false,
       "aggType": "",
       "arguments": {},
       "columnCustomDisplayInfos": {},
       "data": [
        [
         "dbfs:/FileStore/export_csv/sales_by_region/_SUCCESS",
         "_SUCCESS",
         0,
         1743792690000
        ],
        [
         "dbfs:/FileStore/export_csv/sales_by_region/_committed_1997021815839773224",
         "_committed_1997021815839773224",
         112,
         1743792690000
        ],
        [
         "dbfs:/FileStore/export_csv/sales_by_region/_started_1997021815839773224",
         "_started_1997021815839773224",
         0,
         1743792690000
        ],
        [
         "dbfs:/FileStore/export_csv/sales_by_region/part-00000-tid-1997021815839773224-215315b7-c6b3-43a5-ade2-15ecc1660058-53-1-c000.csv",
         "part-00000-tid-1997021815839773224-215315b7-c6b3-43a5-ade2-15ecc1660058-53-1-c000.csv",
         117,
         1743792690000
        ]
       ],
       "datasetInfos": [],
       "dbfsResultPath": null,
       "isJsonSchema": true,
       "metadata": {
        "isDbfsCommandResult": false
       },
       "overflow": false,
       "plotOptions": {
        "customPlotOptions": {},
        "displayType": "table",
        "pivotAggregation": null,
        "pivotColumns": null,
        "xColumns": null,
        "yColumns": null
       },
       "removedWidgets": [],
       "schema": [
        {
         "metadata": "{}",
         "name": "path",
         "type": "\"string\""
        },
        {
         "metadata": "{}",
         "name": "name",
         "type": "\"string\""
        },
        {
         "metadata": "{}",
         "name": "size",
         "type": "\"long\""
        },
        {
         "metadata": "{}",
         "name": "modificationTime",
         "type": "\"long\""
        }
       ],
       "type": "table"
      }
     },
     "output_type": "display_data"
    }
   ],
   "source": [
    "%fs ls /FileStore/export_csv/sales_by_region"
   ]
  },
  {
   "cell_type": "code",
   "execution_count": 0,
   "metadata": {
    "application/vnd.databricks.v1+cell": {
     "cellMetadata": {
      "byteLimit": 2048000,
      "rowLimit": 10000
     },
     "collapsed": true,
     "inputWidgets": {},
     "nuid": "8b68bc77-9895-43a5-9ad8-04f2e23e96db",
     "showTitle": false,
     "tableResultSettingsMap": {},
     "title": ""
    }
   },
   "outputs": [
    {
     "output_type": "display_data",
     "data": {
      "text/html": [
       "<style scoped>\n",
       "  .table-result-container {\n",
       "    max-height: 300px;\n",
       "    overflow: auto;\n",
       "  }\n",
       "  table, th, td {\n",
       "    border: 1px solid black;\n",
       "    border-collapse: collapse;\n",
       "  }\n",
       "  th, td {\n",
       "    padding: 5px;\n",
       "  }\n",
       "  th {\n",
       "    text-align: left;\n",
       "  }\n",
       "</style><div class='table-result-container'><table class='table-result'><thead style='background-color: white'><tr><th>path</th><th>name</th><th>size</th><th>modificationTime</th></tr></thead><tbody><tr><td>dbfs:/FileStore/export_csv/category_summary/_SUCCESS</td><td>_SUCCESS</td><td>0</td><td>1743792694000</td></tr><tr><td>dbfs:/FileStore/export_csv/category_summary/_committed_6132953377316251626</td><td>_committed_6132953377316251626</td><td>112</td><td>1743792694000</td></tr><tr><td>dbfs:/FileStore/export_csv/category_summary/_started_6132953377316251626</td><td>_started_6132953377316251626</td><td>0</td><td>1743792693000</td></tr><tr><td>dbfs:/FileStore/export_csv/category_summary/part-00000-tid-6132953377316251626-b017a375-8e03-4fab-9916-1ec04d7348aa-59-1-c000.csv</td><td>part-00000-tid-6132953377316251626-b017a375-8e03-4fab-9916-1ec04d7348aa-59-1-c000.csv</td><td>129</td><td>1743792694000</td></tr></tbody></table></div>"
      ]
     },
     "metadata": {
      "application/vnd.databricks.v1+output": {
       "addedWidgets": {},
       "aggData": [],
       "aggError": "",
       "aggOverflow": false,
       "aggSchema": [],
       "aggSeriesLimitReached": false,
       "aggType": "",
       "arguments": {},
       "columnCustomDisplayInfos": {},
       "data": [
        [
         "dbfs:/FileStore/export_csv/category_summary/_SUCCESS",
         "_SUCCESS",
         0,
         1743792694000
        ],
        [
         "dbfs:/FileStore/export_csv/category_summary/_committed_6132953377316251626",
         "_committed_6132953377316251626",
         112,
         1743792694000
        ],
        [
         "dbfs:/FileStore/export_csv/category_summary/_started_6132953377316251626",
         "_started_6132953377316251626",
         0,
         1743792693000
        ],
        [
         "dbfs:/FileStore/export_csv/category_summary/part-00000-tid-6132953377316251626-b017a375-8e03-4fab-9916-1ec04d7348aa-59-1-c000.csv",
         "part-00000-tid-6132953377316251626-b017a375-8e03-4fab-9916-1ec04d7348aa-59-1-c000.csv",
         129,
         1743792694000
        ]
       ],
       "datasetInfos": [],
       "dbfsResultPath": null,
       "isJsonSchema": true,
       "metadata": {
        "isDbfsCommandResult": false
       },
       "overflow": false,
       "plotOptions": {
        "customPlotOptions": {},
        "displayType": "table",
        "pivotAggregation": null,
        "pivotColumns": null,
        "xColumns": null,
        "yColumns": null
       },
       "removedWidgets": [],
       "schema": [
        {
         "metadata": "{}",
         "name": "path",
         "type": "\"string\""
        },
        {
         "metadata": "{}",
         "name": "name",
         "type": "\"string\""
        },
        {
         "metadata": "{}",
         "name": "size",
         "type": "\"long\""
        },
        {
         "metadata": "{}",
         "name": "modificationTime",
         "type": "\"long\""
        }
       ],
       "type": "table"
      }
     },
     "output_type": "display_data"
    }
   ],
   "source": [
    "%fs ls /FileStore/export_csv/category_summary"
   ]
  },
  {
   "cell_type": "code",
   "execution_count": 0,
   "metadata": {
    "application/vnd.databricks.v1+cell": {
     "cellMetadata": {
      "byteLimit": 2048000,
      "rowLimit": 10000
     },
     "collapsed": true,
     "inputWidgets": {},
     "nuid": "fdfe0653-f1a3-444f-8a93-2b168e2fac0c",
     "showTitle": false,
     "tableResultSettingsMap": {},
     "title": ""
    }
   },
   "outputs": [
    {
     "output_type": "display_data",
     "data": {
      "text/html": [
       "<style scoped>\n",
       "  .table-result-container {\n",
       "    max-height: 300px;\n",
       "    overflow: auto;\n",
       "  }\n",
       "  table, th, td {\n",
       "    border: 1px solid black;\n",
       "    border-collapse: collapse;\n",
       "  }\n",
       "  th, td {\n",
       "    padding: 5px;\n",
       "  }\n",
       "  th {\n",
       "    text-align: left;\n",
       "  }\n",
       "</style><div class='table-result-container'><table class='table-result'><thead style='background-color: white'><tr><th>path</th><th>name</th><th>size</th><th>modificationTime</th></tr></thead><tbody><tr><td>dbfs:/FileStore/export_csv/monthly_sales/_SUCCESS</td><td>_SUCCESS</td><td>0</td><td>1743792698000</td></tr><tr><td>dbfs:/FileStore/export_csv/monthly_sales/_committed_3280995565486109757</td><td>_committed_3280995565486109757</td><td>112</td><td>1743792697000</td></tr><tr><td>dbfs:/FileStore/export_csv/monthly_sales/_started_3280995565486109757</td><td>_started_3280995565486109757</td><td>0</td><td>1743792697000</td></tr><tr><td>dbfs:/FileStore/export_csv/monthly_sales/part-00000-tid-3280995565486109757-b76fbb61-62b4-4eda-a7a1-414d0600d923-65-1-c000.csv</td><td>part-00000-tid-3280995565486109757-b76fbb61-62b4-4eda-a7a1-414d0600d923-65-1-c000.csv</td><td>831</td><td>1743792697000</td></tr></tbody></table></div>"
      ]
     },
     "metadata": {
      "application/vnd.databricks.v1+output": {
       "addedWidgets": {},
       "aggData": [],
       "aggError": "",
       "aggOverflow": false,
       "aggSchema": [],
       "aggSeriesLimitReached": false,
       "aggType": "",
       "arguments": {},
       "columnCustomDisplayInfos": {},
       "data": [
        [
         "dbfs:/FileStore/export_csv/monthly_sales/_SUCCESS",
         "_SUCCESS",
         0,
         1743792698000
        ],
        [
         "dbfs:/FileStore/export_csv/monthly_sales/_committed_3280995565486109757",
         "_committed_3280995565486109757",
         112,
         1743792697000
        ],
        [
         "dbfs:/FileStore/export_csv/monthly_sales/_started_3280995565486109757",
         "_started_3280995565486109757",
         0,
         1743792697000
        ],
        [
         "dbfs:/FileStore/export_csv/monthly_sales/part-00000-tid-3280995565486109757-b76fbb61-62b4-4eda-a7a1-414d0600d923-65-1-c000.csv",
         "part-00000-tid-3280995565486109757-b76fbb61-62b4-4eda-a7a1-414d0600d923-65-1-c000.csv",
         831,
         1743792697000
        ]
       ],
       "datasetInfos": [],
       "dbfsResultPath": null,
       "isJsonSchema": true,
       "metadata": {
        "isDbfsCommandResult": false
       },
       "overflow": false,
       "plotOptions": {
        "customPlotOptions": {},
        "displayType": "table",
        "pivotAggregation": null,
        "pivotColumns": null,
        "xColumns": null,
        "yColumns": null
       },
       "removedWidgets": [],
       "schema": [
        {
         "metadata": "{}",
         "name": "path",
         "type": "\"string\""
        },
        {
         "metadata": "{}",
         "name": "name",
         "type": "\"string\""
        },
        {
         "metadata": "{}",
         "name": "size",
         "type": "\"long\""
        },
        {
         "metadata": "{}",
         "name": "modificationTime",
         "type": "\"long\""
        }
       ],
       "type": "table"
      }
     },
     "output_type": "display_data"
    }
   ],
   "source": [
    "%fs ls /FileStore/export_csv/monthly_sales"
   ]
  }
 ],
 "metadata": {
  "application/vnd.databricks.v1+notebook": {
   "computePreferences": null,
   "dashboards": [],
   "environmentMetadata": {
    "base_environment": "",
    "environment_version": "1"
   },
   "inputWidgetPreferences": null,
   "language": "python",
   "notebookMetadata": {
    "mostRecentlyExecutedCommandWithImplicitDF": {
     "commandId": 2934950733117899,
     "dataframes": [
      "_sqldf"
     ]
    },
    "pythonIndentUnit": 4
   },
   "notebookName": "retail_etl_pipeline",
   "widgets": {}
  }
 },
 "nbformat": 4,
 "nbformat_minor": 0
}